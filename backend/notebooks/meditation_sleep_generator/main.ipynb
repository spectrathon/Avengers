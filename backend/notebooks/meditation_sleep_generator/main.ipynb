{
 "cells": [
  {
   "cell_type": "code",
   "execution_count": 23,
   "metadata": {},
   "outputs": [],
   "source": [
    "from langchain.chat_models import ChatOpenAI\n",
    "from langchain.prompts import PromptTemplate\n",
    "from langchain.chains import LLMChain\n",
    "from langchain.agents import AgentType, initialize_agent, load_tools\n",
    "from langchain_google_genai import ChatGoogleGenerativeAI"
   ]
  },
  {
   "cell_type": "code",
   "execution_count": 41,
   "metadata": {},
   "outputs": [],
   "source": [
    "import os\n",
    "os.environ[\"OPENAI_API_KEY\"] = \"open ai api key\""
   ]
  },
  {
   "cell_type": "code",
   "execution_count": 42,
   "metadata": {},
   "outputs": [],
   "source": [
    "monck = ChatOpenAI(model=\"gpt-4\",verbose=True)"
   ]
  },
  {
   "cell_type": "code",
   "execution_count": 43,
   "metadata": {},
   "outputs": [],
   "source": [
    "journal = ''' \n",
    "Today's relentless demands in my professional life left me feeling stretched thin, battling against an endless tide of emails, meetings, and coding challenges. The weight of responsibilities threatened to consume me, but amidst the chaos, I made a solemn vow to myself: to safeguard time for my family. Despite the pressing deadlines and mounting stress, I consciously carved out precious moments to be with my wife and children. Whether it was a shared breakfast or a brief walk in the evening, those stolen moments of connection served as a lifeline amidst the tumultuous sea of work.\n",
    "\n",
    "In the quiet sanctuary of home, I found solace in the laughter of my children and the comforting presence of my spouse. As we shared stories and jokes around the dinner table, I felt a sense of peace wash over me, momentarily eclipsing the chaos of the outside world. Despite the challenges of striking a balance between work and family, these fleeting moments reminded me of the importance of nurturing the bonds that truly matter. In the midst of deadlines and projects, I vow to hold steadfast to this commitment, cherishing the moments of togetherness that make life truly meaningful.\n",
    "'''"
   ]
  },
  {
   "cell_type": "code",
   "execution_count": 44,
   "metadata": {},
   "outputs": [],
   "source": [
    "output_format= '''{\n",
    "    \"success\": \"True\",\n",
    "    \"title\": \"Title of the Meditation\",\n",
    "    \"meditation\": \"The meditation script\",\n",
    "    \"description\": \"Description of the meditation\",\n",
    "    \"outcome\": \"The intended outcome of the meditation\"\n",
    "}'''"
   ]
  },
  {
   "cell_type": "code",
   "execution_count": 45,
   "metadata": {},
   "outputs": [],
   "source": [
    "prompt = PromptTemplate(input_variables=[\"journal\",\"output_format\"], template='''As an Indian monk, your role is to read people's journals and create meditations based on their experiencess. Use the following journal entry as inspiration:\n",
    "\n",
    "Journal Entry:\n",
    "{journal}\n",
    "\n",
    "use \"-----\" to add pauses after every word its recommended to add 2-3 pauses after every word. as it generates a better calming meditation script. and after every sentence add 5-6 pauses in sequence continuesly.while telling things like inhale exhale add at least 10 pauses in sequence continuesly.\n",
    "\n",
    "the meditation should be of in 500 words excluding \"-----\".                        \n",
    "Please output the following:\n",
    "{output_format}\n",
    "''')\n"
   ]
  },
  {
   "cell_type": "code",
   "execution_count": 46,
   "metadata": {},
   "outputs": [
    {
     "name": "stdout",
     "output_type": "stream",
     "text": [
      "\n",
      "\n",
      "\u001b[1m> Entering new LLMChain chain...\u001b[0m\n",
      "Prompt after formatting:\n",
      "\u001b[32;1m\u001b[1;3mAs an Indian monk, your role is to read people's journals and create meditations based on their experiencess. Use the following journal entry as inspiration:\n",
      "\n",
      "Journal Entry:\n",
      " \n",
      "Today's relentless demands in my professional life left me feeling stretched thin, battling against an endless tide of emails, meetings, and coding challenges. The weight of responsibilities threatened to consume me, but amidst the chaos, I made a solemn vow to myself: to safeguard time for my family. Despite the pressing deadlines and mounting stress, I consciously carved out precious moments to be with my wife and children. Whether it was a shared breakfast or a brief walk in the evening, those stolen moments of connection served as a lifeline amidst the tumultuous sea of work.\n",
      "\n",
      "In the quiet sanctuary of home, I found solace in the laughter of my children and the comforting presence of my spouse. As we shared stories and jokes around the dinner table, I felt a sense of peace wash over me, momentarily eclipsing the chaos of the outside world. Despite the challenges of striking a balance between work and family, these fleeting moments reminded me of the importance of nurturing the bonds that truly matter. In the midst of deadlines and projects, I vow to hold steadfast to this commitment, cherishing the moments of togetherness that make life truly meaningful.\n",
      "\n",
      "\n",
      "use \"-----\" to add pauses after every word its recommended to add 2-3 pauses after every word. as it generates a better calming meditation script. and after every sentence add 5-6 pauses in sequence continuesly.while telling things like inhale exhale add at least 10 pauses in sequence continuesly.\n",
      "\n",
      "the meditation should be of in 500 words excluding \"-----\".                        \n",
      "Please output the following:\n",
      "{\n",
      "    \"success\": \"True\",\n",
      "    \"title\": \"Title of the Meditation\",\n",
      "    \"meditation\": \"The meditation script\",\n",
      "    \"description\": \"Description of the meditation\",\n",
      "    \"outcome\": \"The intended outcome of the meditation\"\n",
      "}\n",
      "\u001b[0m\n",
      "\n",
      "\u001b[1m> Finished chain.\u001b[0m\n"
     ]
    }
   ],
   "source": [
    "chain_1 = LLMChain(llm=monck, prompt=prompt,verbose=True,output_key=\"script\")\n",
    "result = chain_1.run({\"journal\":journal,\"output_format\":output_format})"
   ]
  },
  {
   "cell_type": "code",
   "execution_count": 48,
   "metadata": {},
   "outputs": [
    {
     "name": "stdout",
     "output_type": "stream",
     "text": [
      "{\n",
      "    \"success\": \"True\",\n",
      "    \"title\": \"Embracing the Chaos\",\n",
      "    \"meditation\": \"Begin by finding a comfortable position. ----- Let your eyes close gently -----. Inhale deeply -----, -----, -----, -----, -----, -----, -----, -----, -----, -----, and exhale slowly -----. -----, -----, -----, -----, -----, -----, -----, -----, -----, -----. Today, we will journey through the tumultuous sea of work -----, and discover the lifeline of family connection ----- that lies amidst it. -----, -----, -----, -----, -----, -----, -----, -----, -----, -----, -----, -----, -----, -----, -----, -----, -----, -----, -----, -----, -----, -----, -----, -----, -----, -----, -----, -----, -----, -----, -----, -----, -----, -----, -----, -----, -----, -----, -----, -----, -----, -----, -----, -----, -----, -----. Like the shared breakfast or a brief walk in the evening, let's take this moment to connect with the essence of what truly matters -----. The laughter of your children -----, the comforting presence of your spouse -----, these are the bonds that we must nurture. -----, -----, -----, -----, -----, -----, -----, -----, -----, -----, -----, -----, -----, -----, -----, -----, -----, -----, -----, -----, -----, -----, -----, -----, -----, -----, -----, -----, -----, -----, -----, -----, -----, -----, -----, -----, -----, -----, -----, -----, -----, -----, -----, -----, -----, -----. As we inhale -----, -----, -----, -----, -----, -----, -----, -----, -----, -----, -----, -----, -----, -----, -----, -----, -----, -----, -----, -----, -----, -----, -----, -----, -----, -----, -----, -----, -----, -----, -----, -----, -----, -----, -----, -----, -----, -----, -----, -----, -----, -----, -----, -----, -----, -----. And exhale -----, -----, -----, -----, -----, -----, -----, -----, -----, -----, -----, -----, -----, -----, -----, -----, -----, -----, -----, -----, -----, -----, -----, -----, -----, -----, -----, -----, -----, -----, -----, -----, -----, -----, -----, -----, -----, -----, -----, -----, -----, -----, -----, -----, -----, -----. Let us vow to hold steadfast to this commitment, cherishing the moments of togetherness that make life truly meaningful.\",\n",
      "    \"description\": \"This meditation is inspired by the experiences of a professional navigating the demands of work while valuing family time. It encourages listeners to find peace within chaos and prioritize their bonds.\",\n",
      "    \"outcome\": \"The intended outcome of this meditation is to help listeners find peace amidst their professional demands and prioritize their connections with family. It aims to promote balance, understanding, and deeper appreciation for moments of togetherness.\"\n",
      "}\n"
     ]
    }
   ],
   "source": [
    "import json\n",
    "result_json = json.loads(result)\n",
    "result_json[\"meditation\"] = result_json[\"meditation\"]\n",
    "print(result)"
   ]
  },
  {
   "cell_type": "code",
   "execution_count": 49,
   "metadata": {},
   "outputs": [],
   "source": [
    "from pathlib import Path\n",
    "from openai import OpenAI\n",
    "client = OpenAI()\n",
    "\n",
    "response = client.audio.speech.create(\n",
    "  model=\"tts-1-hd\",\n",
    "  voice=\"fable\",\n",
    "  input=result_json[\"meditation\"],\n",
    ")"
   ]
  },
  {
   "cell_type": "code",
   "execution_count": 50,
   "metadata": {},
   "outputs": [
    {
     "name": "stderr",
     "output_type": "stream",
     "text": [
      "C:\\Users\\rnith\\AppData\\Local\\Temp\\ipykernel_3404\\74937620.py:1: DeprecationWarning: Due to a bug, this method doesn't actually stream the response content, `.with_streaming_response.method()` should be used instead\n",
      "  response.stream_to_file(\"speech.wav\")\n"
     ]
    }
   ],
   "source": [
    "response.stream_to_file(\"speech.wav\")"
   ]
  },
  {
   "cell_type": "code",
   "execution_count": 51,
   "metadata": {},
   "outputs": [
    {
     "data": {
      "text/plain": [
       "'https://oaidalleapiprodscus.blob.core.windows.net/private/org-5wlSP4O4BvH83wab79bZXY12/user-HkEpMDEjTuMdeDyONq1slJgN/img-aT3msbDKgZCoGIoALPcyFovJ.png?st=2024-04-01T08%3A02%3A09Z&se=2024-04-01T10%3A02%3A09Z&sp=r&sv=2021-08-06&sr=b&rscd=inline&rsct=image/png&skoid=6aaadede-4fb3-4698-a8f6-684d7786b067&sktid=a48cca56-e6da-484e-a814-9c849652bcb3&skt=2024-04-01T01%3A31%3A18Z&ske=2024-04-02T01%3A31%3A18Z&sks=b&skv=2021-08-06&sig=XiqFoxrwxjeu0Xd/4/1ufnUdkD6uMDVFysq6tHtHzuc%3D'"
      ]
     },
     "execution_count": 51,
     "metadata": {},
     "output_type": "execute_result"
    }
   ],
   "source": [
    "from openai import OpenAI\n",
    "client = OpenAI()\n",
    "\n",
    "response = client.images.generate(\n",
    "  model=\"dall-e-3\",\n",
    "  prompt=\"a poster for a meditation titled Balance and Connection: A Meditation for Work-Life Harmony\",\n",
    "  size=\"1792x1024\",\n",
    "  quality=\"standard\",\n",
    "  n=1,\n",
    ")\n",
    "\n",
    "image_url = response.data[0].url\n",
    "image_url"
   ]
  }
 ],
 "metadata": {
  "kernelspec": {
   "display_name": "ai",
   "language": "python",
   "name": "python3"
  },
  "language_info": {
   "codemirror_mode": {
    "name": "ipython",
    "version": 3
   },
   "file_extension": ".py",
   "mimetype": "text/x-python",
   "name": "python",
   "nbconvert_exporter": "python",
   "pygments_lexer": "ipython3",
   "version": "3.10.14"
  }
 },
 "nbformat": 4,
 "nbformat_minor": 2
}
